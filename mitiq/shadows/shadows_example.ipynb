{
 "cells": [
  {
   "attachments": {},
   "cell_type": "markdown",
   "id": "ac96bfbf",
   "metadata": {},
   "source": [
    "# Classical Shadows - code prototype"
   ]
  },
  {
   "attachments": {},
   "cell_type": "markdown",
   "id": "7198be12",
   "metadata": {},
   "source": [
    "This is a prototpye for the *classical shadows* module that we plan to implement in Mitiq. \n",
    "\n",
    "Within this notebook, we employ the Cirq and Mitiq framework to obtain classical shadows of a quantum state, which are essential for the processes of state reconstruction and estimation of observables.\n",
    "\n",
    "\n",
    "The assocaited RFC can be found at [this link](https://docs.google.com/document/d/1B5FnqQDvoRYap5fGPqzcbp-RXIrUFjbBcLiWIUrLmuA/edit?usp=sharing).\n",
    "    "
   ]
  },
  {
   "cell_type": "code",
   "execution_count": 1,
   "id": "a936ec7c",
   "metadata": {},
   "outputs": [],
   "source": [
    "import cirq\n",
    "import numpy as np\n",
    "from copy import deepcopy\n",
    "from tqdm.notebook import tqdm, trange\n",
    "from typing import List, Tuple, Union, Dict, Any\n",
    "\n",
    "import matplotlib.pyplot as plt\n",
    "import seaborn as sns\n",
    "import pandas as pd\n",
    "import warnings\n",
    "\n",
    "from mitiq.shadows import *\n",
    "from mitiq.shadows.shadows_utils import *\n",
    "\n",
    "warnings.filterwarnings(\"ignore\")\n",
    "sns.set_style(\"whitegrid\")\n",
    "%matplotlib inline\n",
    "# auto reload modules when they have changed\n",
    "# np.random.seed(666)\n",
    "%load_ext autoreload\n",
    "%autoreload 2"
   ]
  },
  {
   "attachments": {},
   "cell_type": "markdown",
   "id": "2e1301e1",
   "metadata": {},
   "source": [
    "In the context of an $n$-qubit system, where $\\rho$ is an unknown quantum state residing in a $2^n$-dimensional Hilbert space, the procedure of performing classical shadow involves extracting information from the state through repeated measurements. "
   ]
  },
  {
   "attachments": {},
   "cell_type": "markdown",
   "id": "90890e0c",
   "metadata": {},
   "source": [
    "## Define a test circuit from which we'll extract classical shadows\n",
    "\n"
   ]
  },
  {
   "cell_type": "code",
   "execution_count": 2,
   "id": "a9bef863",
   "metadata": {},
   "outputs": [
    {
     "name": "stdout",
     "output_type": "stream",
     "text": [
      "0: ───H───Ry(-0.083π)───@───Rz(-0.032π)──────────────────────────────\n",
      "                        │\n",
      "1: ───H───Ry(-0.143π)───X───@─────────────Rz(0.028π)─────────────────\n",
      "                            │\n",
      "2: ───H───Ry(0.268π)────────X─────────────@────────────Rz(-0.538π)───\n",
      "                                          │\n",
      "3: ───H───Ry(0.146π)──────────────────────X────────────Rz(-0.229π)───\n"
     ]
    }
   ],
   "source": [
    "# number of qubits in the circuit\n",
    "num_qubits: int = 4\n",
    "# qubits in the circuit prepared in the $|0\\rangle$ state\n",
    "qubits: List[cirq.Qid] = cirq.LineQubit.range(num_qubits)\n",
    "# defining random parameters for the circuit\n",
    "# np.random.seed(666)\n",
    "# params = np.array([0.82418808, 0.479966  , 1.17346801, 0.90904807])\n",
    "params: np.ndarray = np.random.randn(2 * num_qubits)\n",
    "\n",
    "\n",
    "# define circuit\n",
    "def simple_test_circuit(\n",
    "    params: np.ndarray, qubits: List[cirq.Qid]\n",
    ") -> cirq.Circuit:\n",
    "    circuit: cirq.Circuit = cirq.Circuit()\n",
    "    for i, qubit in enumerate(qubits):\n",
    "        circuit.append(cirq.H(qubit))\n",
    "        circuit.append(cirq.ry(params[i])(qubit))\n",
    "    for i in range(num_qubits - 1):\n",
    "        circuit.append(cirq.CNOT(qubits[i], qubits[i + 1]))\n",
    "    for i, qubit in enumerate(qubits):\n",
    "        circuit.append(cirq.rz(params[i + num_qubits])(qubit))\n",
    "    return circuit\n",
    "\n",
    "\n",
    "# print the circuit\n",
    "print(simple_test_circuit(params, qubits))"
   ]
  },
  {
   "attachments": {},
   "cell_type": "markdown",
   "id": "cc3f1c3c",
   "metadata": {},
   "source": [
    "<script>\n",
    "MathJax.Hub.Config({\n",
    "  TeX: { equationNumbers: { autoNumber: \"AMS\" } }\n",
    "});\n",
    "</script>\n",
    "\n",
    "## Sampling random Pauli measurements \n",
    "\n",
    "This process involves applying a random unitary selected from a randomly fixed ensemble $\\mathcal{U}\\in U(2^n)$ to rotate the state $\\rho\\rightarrow U^\\dagger \\rho U$, performing a computational-basis($Z$-basis) measurement, and storing a classical description $U^\\dagger |\\hat{b}\\rangle\\langle\\hat{b}| U$. After the measurement, the inverse of $U$ is applied to the resulting computational basis state, collapsing $\\rho$ to\n",
    "  \n",
    "\\begin{align}\n",
    "U^\\dagger|\\hat{b}\\rangle\\langle\\hat{b}| U\\qquad \\mathrm{where} \\qquad \\mathrm{Pr}[\\hat{b}=b]=\\langle b|U\\rho U^\\dagger|b\\rangle.\n",
    "\\end{align}\n",
    "\n",
    "If the unitary group $\\mathcal{U}$ is chosen to be the local Clifford group $\\mathrm{CL}(2)^n$, this corresponds to performing a random Pauli measurement. This means that for each qubit, we randomly decide to measure one of the Pauli operators. Considering that the only possible measurement to be performed is the $Z$-basis measurement, the random Pauli measurement is equivalent to randomly sampling a unitary from the unitary ensemble: $\\mathcal{G}=\\{\\mathrm{id},\\;\\mathrm{H},\\;\\mathrm{H}\\cdot \\mathrm{S}^\\dagger\\}$ and then performing the $Z$-basis measurement. This is what we do after we perform stage 1 of the main function execute_with_shadows, and the outcomes are stored as two arrays: one for the measurement results $|0\\rangle:=1,;|1\\rangle:= -1$ and the other for the applied unitaries. In the case of local Pauli measurement, what gets recorded is the measured Pauli gate: $X,Y,Z$. If we conduct this process in two steps, first by sampling the unitary (say $U=\\mathrm{H}$ or $\\mathrm{H}\\cdot \\mathrm{S}^\\dagger$), and then by performing the $Z$-basis measurement, it becomes equivalent to performing an $X$ or $Y$-basis measurement. So, in terms of implementation, we simply record a sequence of Pauli gates $u_i:= U_i^\\dagger ZU_i$ that have been measured for each qubit in the circuit as one of the output lists of the measurement function shadow_measure_with_executor.\n",
    "\n",
    "## Apply Inverse Channel to Obtain Snapshot and Classical Shadows.\n",
    "\n",
    "This random measurement contains valuable information about $\\rho$ in expectation:\n",
    "\\begin{align}\n",
    "    \\mathbb{E}[U^\\dagger |\\hat{b}\\rangle\\langle\\hat{b}|U]=\\mathcal{M}(\\rho),\n",
    "\\end{align}\n",
    "the expectation in the first expression has the form $\\mathbf{Pr}[\\hat{{b}}={b}]=\\langle {b}|U\\rho U^\\dagger|b\\rangle$. For any unitary ensemble $\\mathcal{U}$, the expected value of the outer product of the classical snapshot corresponds to the operation of the quantum channel $\\mathcal{M}$ on the quantum state $\\rho$. If the measurements we sample from are tomographically complete, then the protocol $\\mathcal{M}$ defines an invertible linear transformation $\\mathcal{M}^{-1}$, which may not be a quantum channel, since it is not CP, which means that it could not be performed in the lab. But it will only be performed on the classical data stored in\n",
    "a classical memory. If we apply $\\mathcal{M}$ to all the snapshots, the expected value of these inverted snapshots aligns with the density operator as defined by the protocol,\n",
    "\n",
    "\\begin{align}\n",
    "\\hat{\\rho}=\\mathcal{M}^{-1}\\left(U^\\dagger|\\hat{b}\\rangle\\langle\\hat{b}|U\\right)\n",
    "\\end{align}\n",
    "which has been named a single copy of **classical shadow**. Based on *Schur's Lemma* the quantum channel $\\mathcal{M}$ is a depolarizing channel $\\mathcal{D}_p$ with $p=\\frac{1}{2^n+1}$. It is easy to solve for the inverted map \n",
    "\n",
    "\\begin{align}\n",
    "\\mathcal{M}^{-1}(\\cdot)=[(2^n +1)-\\mathbb{I}\\cdot\\mathrm{Tr}](\\cdot),\n",
    "\\end{align}\n",
    " which is indeed unitary, however, not CP, so it is not a physical map as expected.\n",
    "\n",
    "In the case of random Pauli measurement, the unitary could be represented by the tensor product of all qubits, so it is with the state $|\\hat{b}\\rangle\\in\\{0,1\\}^{\\otimes n}$, i.e. $U^\\dagger|\\hat{b}\\rangle=\\bigotimes_{i\\leq n}U_i|\\hat{b}_i\\rangle$. Therefore, based on Schur's Lemma, a snapshot would takes the form:\n",
    "\\begin{align}\n",
    "\\hat{\\rho}=\\bigotimes_{i=1}^{n}\\left(3U_i^\\dagger|\\hat{b}_i\\rangle\\langle\\hat{b}_i|U_i-\\mathbb{I}\\right),\\qquad|\\hat{b}_i\\rangle\\in\\{0,1\\}.\n",
    "\\end{align}\n",
    "which is a tensor product of $n$ qubits, each of which is a classical state. This step is realized by `snapshot_state` function. Repeating this procedure $N$ times results in an array of $N$ independent classical snapshots of $\\rho$:\n",
    "\\begin{align}\n",
    "    S(\\rho,\\; N)=\\big\\{\\hat{\\rho}_1=\\mathcal{M}^{-1}\\left(U_1^\\dagger |\\hat{b}_1\\rangle\\langle\\hat{b}_1| U_1\\right),\\dots,\\mathcal{M}^{-1}\\left(U_N^\\dagger |\\hat{b}_N\\rangle\\langle\\hat{b}_N| U_N\\right)\\big\\} .\n",
    "\\end{align}\n",
    "\n",
    "# State Reconstruction from Classical Shadows\n",
    "### State Reconstruction\n",
    "The classical shadows state reconstruction are then obtained by taking the average of the snapshots, this process is designed to reproduce the underlying state $\\rho$ exactly in expectation:\n",
    "\\begin{align}\n",
    "   \\rho= \\mathbb{E}[\\hat{\\rho}],\n",
    "\\end{align}\n",
    "\n",
    "In the main function `execute_with_shadows`, we first sample the random Pauli measurement, then apply the inverse channel to obtain the snapshots, and finally take the average of the snapshots to obtain the reconstructed state if *state_reconstruction =* **True**. \n",
    "\n",
    "### Error Analysis\n",
    "We can take a visualization of the elementwise difference between the reconstructed state and the original state. \n",
    "\\begin{align}\n",
    "\\Delta\\rho_{ij}=|\\rho^{\\mathrm{shadow}}_{ij}-\\rho_{ij}|\n",
    "\\end{align}\n",
    "The difference is very small, which means that the classical shadow is a good approximation of the original state even in the sence of state tomography. \n",
    "\n",
    "It is anticipated that the fidelity will not necessarily be lower than 1, as the state reconstructed through classical shadow estimation is not guaranteed to be a physical quantum state, given that $\\mathcal{M}^{-1}$ is not a quantum channel. \n",
    "\n",
    "Fidelity is defined by $F(\\rho,\\sigma)=\\mathrm{Tr}\\sqrt{\\rho^{1/2}\\sigma\\rho^{1/2}}$, when $\\rho=|v\\rangle\\langle v|$ is a pure state $F(\\rho,\\sigma)=\\langle v|\\sigma|v\\rangle$.\n",
    "Based on the theorem, if the error rate of fedelity is $\\epsilon$, i.e.\n",
    "\\begin{align}\n",
    "|F(\\rho,\\sigma)-1|\\leq\\epsilon,\n",
    "\\end{align}\n",
    "then the minimumnumber of measurements $N$ (number of snapshots) should be:\n",
    "\\begin{align}\n",
    "N = \\frac{34}{\\epsilon^2}\\left\\|\\rho-\\frac{\\mathrm{Tr}(\\rho)}{2^n}\\mathbb{I}\\right\\|_{\\mathrm{shadow}}^2\n",
    "\\end{align}\n",
    "with the shadow norm upper bound of the random Pauli measurement $\\left\\|\\cdot\\right\\|_{\\mathrm{shadow}}\\leq 2^k\\|\\cdot\\|_\\infty$ when the operator acting on $k$ qubits, we have $N\\leq 34\\epsilon^{-2}2^{2n}+\\mathcal{O}(e^{-n})$. Based on Fuchs–van de Graaf inequalities and properties of $L_p$ norm, $\\|\\rho-\\sigma\\|_2\\leq \\|\\rho-\\sigma\\|_1 \\leq (1-F(\\rho,\\sigma))^{1/2}$, the $L_2$ norm distance between the state reconstructed through classical shadow estimation and the state prepared by the circuit is upperbounded by the fidelity error rate $\\epsilon$."
   ]
  },
  {
   "cell_type": "code",
   "execution_count": 3,
   "id": "d3cb6ad9",
   "metadata": {},
   "outputs": [],
   "source": [
    "# target state\n",
    "# Create a simple circuit.\n",
    "circuit = simple_test_circuit(params, qubits)\n",
    "\n",
    "# Compute the final state vector.\n",
    "state_vector = circuit.final_state_vector().reshape(-1, 1)\n",
    "\n",
    "# Compute the density matrix.\n",
    "rho_true = state_vector @ state_vector.conj().T"
   ]
  },
  {
   "cell_type": "code",
   "execution_count": 4,
   "id": "9f23055f",
   "metadata": {},
   "outputs": [
    {
     "name": "stdout",
     "output_type": "stream",
     "text": [
      "n_total_measurements = 8704\n"
     ]
    }
   ],
   "source": [
    "# error rate of state reconstruction epsilon < 1.\n",
    "epsilon = 1\n",
    "# number of total measurements should perform for error rate epsilon\n",
    "n_total_measurements = min_n_total_measurements(epsilon, num_qubits)\n",
    "\n",
    "print(\"n_total_measurements = {}\".format(n_total_measurements))"
   ]
  },
  {
   "cell_type": "code",
   "execution_count": 5,
   "id": "a1410819",
   "metadata": {},
   "outputs": [
    {
     "data": {
      "application/vnd.jupyter.widget-view+json": {
       "model_id": "d0ce6660db1743d998ebd9a1c12c7426",
       "version_major": 2,
       "version_minor": 0
      },
      "text/plain": [
       "Measurement:   0%|          | 0/8704 [00:00<?, ?it/s]"
      ]
     },
     "metadata": {},
     "output_type": "display_data"
    }
   ],
   "source": [
    "# n_total_measurements = 2000\n",
    "\n",
    "output = execute_with_shadows(\n",
    "    circuit,\n",
    "    num_total_measurements=n_total_measurements,\n",
    "    state_reconstruction=True,\n",
    ")\n",
    "# shadow reconstruction of the density matrix\n",
    "rho_shadow = output[\"est_density_matrix\"]"
   ]
  },
  {
   "cell_type": "markdown",
   "id": "4ca2ca4c",
   "metadata": {},
   "source": [
    "We can plot the elementwise difference between the reconstructed state and the original state as a thermal diagram:"
   ]
  },
  {
   "cell_type": "code",
   "execution_count": 6,
   "id": "217c7f42",
   "metadata": {},
   "outputs": [
    {
     "data": {
      "image/png": "[encoded data removed]",
      "text/plain": [
       "<Figure size 1800x600 with 4 Axes>"
      ]
     },
     "metadata": {},
     "output_type": "display_data"
    }
   ],
   "source": [
    "# Setting the style\n",
    "sns.set_style(\"white\")\n",
    "\n",
    "# Calculate min and max values across the datasets\n",
    "vmin = min(\n",
    "    np.abs(rho_shadow).min(),\n",
    "    np.abs(rho_true).min(),\n",
    "    np.abs(rho_true - rho_shadow).min(),\n",
    ")\n",
    "vmax = max(\n",
    "    np.abs(rho_shadow).max(),\n",
    "    np.abs(rho_true).max(),\n",
    "    np.abs(rho_true - rho_shadow).max(),\n",
    ")\n",
    "\n",
    "# Creating a figure with three subplots (1 row, 3 columns)\n",
    "fig, axs = plt.subplots(nrows=1, ncols=3, figsize=(18, 6))\n",
    "\n",
    "# Plotting the first image on the first subplot\n",
    "im1 = axs[0].imshow(np.real(rho_shadow), cmap=\"Blues\", vmin=vmin, vmax=vmax)\n",
    "axs[0].set_title(r\"$\\rho_{ij}^{\\mathrm{shadow}}$\")\n",
    "\n",
    "# Plotting the second image on the second subplot\n",
    "im2 = axs[1].imshow(np.real(rho_true), cmap=\"Blues\", vmin=vmin, vmax=vmax)\n",
    "axs[1].set_title(r\"$\\rho_{ij}$\")\n",
    "\n",
    "# Plotting the third image on the third subplot\n",
    "im3 = axs[2].imshow(\n",
    "    np.abs(rho_true - rho_shadow), cmap=\"Blues\", vmin=vmin, vmax=vmax\n",
    ")\n",
    "axs[2].set_title(r\"$|\\rho_{ij}^{\\mathrm{shadow}}-\\rho_{ij}|$\")\n",
    "\n",
    "# Adjust the space between plots\n",
    "plt.subplots_adjust(wspace=0.3)\n",
    "\n",
    "# Add a shared colorbar\n",
    "cbar = fig.colorbar(\n",
    "    im3, ax=axs.ravel().tolist(), orientation=\"vertical\", shrink=0.67, pad=0.05\n",
    ")\n",
    "\n",
    "# Show the figure with three side-by-side plots\n",
    "plt.show()"
   ]
  },
  {
   "cell_type": "markdown",
   "id": "3bb1136d",
   "metadata": {},
   "source": [
    "Compute the fidelity and $L_2$ distance between the state reconstructed through classical shadow estimation (which is not a quantum state) and the state prepared by the circuit $\\|\\rho_{\\mathrm{shadow}}-\\rho\\|_2$, with $\\|\\cdot\\|_2:=\\sqrt{\\mathrm{Tr}[(\\cdot)^\\dagger(\\cdot)]}$. "
   ]
  },
  {
   "cell_type": "code",
   "execution_count": 7,
   "id": "0647ad62",
   "metadata": {},
   "outputs": [
    {
     "data": {
      "application/vnd.jupyter.widget-view+json": {
       "model_id": "082ec8c5a783421b8716414afab5ea38",
       "version_major": 2,
       "version_minor": 0
      },
      "text/plain": [
       "  0%|          | 0/10 [00:00<?, ?it/s]"
      ]
     },
     "metadata": {},
     "output_type": "display_data"
    }
   ],
   "source": [
    "# compute fidelity and operator 2-norm\n",
    "b_lists, u_lists = output[\"shadow_outcomes\"], output[\"pauli_strings\"]\n",
    "n_measurement_list = np.arange(\n",
    "    int(n_total_measurements / 100),\n",
    "    n_total_measurements,\n",
    "    int(n_total_measurements / 10),\n",
    ")\n",
    "# repeat the experiment 3 times\n",
    "n_runs = 3\n",
    "fidelity_list = []\n",
    "operator_2_norm_list = []\n",
    "\n",
    "# Create a new dataframe to store the results\n",
    "df = pd.DataFrame(\n",
    "    columns=[\"n_measurement\", \"run\", \"fidelity\", \"operator_2_norm\"]\n",
    ")\n",
    "\n",
    "# Loop over the different number of measurements\n",
    "for n_measurement in tqdm(n_measurement_list):\n",
    "    # Repeat the experiment 3 times\n",
    "    for run in range(n_runs):\n",
    "        # randomly sample from the measurement outcomes, with replacement\n",
    "        sample_idx = np.random.choice(\n",
    "            len(b_lists), size=n_measurement, replace=True\n",
    "        )\n",
    "        shadow_subset = (b_lists[sample_idx], u_lists[sample_idx])\n",
    "        rho_shadow = shadow_state_reconstruction(shadow_subset)\n",
    "        fidelity_val = fidelity(state_vector, rho_shadow)\n",
    "        norm_val = operator_2_norm(rho_shadow - rho_true)\n",
    "        df = df.append(\n",
    "            {\n",
    "                \"n_measurement\": n_measurement,\n",
    "                \"run\": run,\n",
    "                \"fidelity\": fidelity_val,\n",
    "                \"operator_2_norm\": norm_val,\n",
    "            },\n",
    "            ignore_index=True,\n",
    "        )"
   ]
  },
  {
   "cell_type": "code",
   "execution_count": 8,
   "id": "38f3e2aa",
   "metadata": {},
   "outputs": [
    {
     "name": "stderr",
     "output_type": "stream",
     "text": [
      "WARNING - No artists with labels found to put in legend.  Note that artists whose label start with an underscore are ignored when legend() is called with no argument.\n",
      "WARNING - No artists with labels found to put in legend.  Note that artists whose label start with an underscore are ignored when legend() is called with no argument.\n"
     ]
    },
    {
     "data": {
      "text/plain": [
       "(1000.0, 8704.0)"
      ]
     },
     "execution_count": 8,
     "metadata": {},
     "output_type": "execute_result"
    },
    {
     "data": {
      "image/png": "[encoded data removed]",
      "text/plain": [
       "<Figure size 640x480 with 1 Axes>"
      ]
     },
     "metadata": {},
     "output_type": "display_data"
    },
    {
     "data": {
      "image/png": "[encoded data removed]",
      "text/plain": [
       "<Figure size 640x480 with 1 Axes>"
      ]
     },
     "metadata": {},
     "output_type": "display_data"
    }
   ],
   "source": [
    "sns.set_style(\"whitegrid\")\n",
    "plt.figure()\n",
    "sns.lineplot(\n",
    "    data=df,\n",
    "    x=\"n_measurement\",\n",
    "    y=\"fidelity\",\n",
    ")\n",
    "plt.xlabel(\"Number of Measurements\")\n",
    "plt.legend()\n",
    "plt.ylim(0, 1.2)\n",
    "plt.title(r\"Fidelity: $F(\\rho^{\\rm shadow}, \\rho)$\")\n",
    "plt.xlabel(r\"N Measurements-$N$\")\n",
    "plt.ylabel(r\"Fidelity\")\n",
    "# plot range 0.9 to 1.2\n",
    "plt.ylim(0.8, 1.2)\n",
    "# plot x range\n",
    "plt.xlim(1000, n_total_measurements)\n",
    "\n",
    "\n",
    "plt.figure()\n",
    "sns.lineplot(\n",
    "    data=df,\n",
    "    x=\"n_measurement\",\n",
    "    y=\"operator_2_norm\",\n",
    ")\n",
    "plt.title(r\"$L_2$-Norm distance: $\\|\\rho^{\\rm shadow} - \\rho\\|_2$\")\n",
    "plt.xlabel(r\"N Measurements-$N$\")\n",
    "plt.ylabel(r\"$L_2$ distance\")\n",
    "plt.legend()\n",
    "# plot range 0.35 to 1.0\n",
    "plt.ylim(0.35, 1.0)\n",
    "# plot x range\n",
    "plt.xlim(1000, n_total_measurements)"
   ]
  },
  {
   "cell_type": "markdown",
   "id": "590b111b",
   "metadata": {},
   "source": [
    "## Use Classical Shadows to Estimate Expectation Values of Observables\n",
    "\n",
    "To estimate the expectation value of some observable, we simply replace the unknown quantum state $\\rho$ with a classical shadow $\\hat{\\rho}$. Since classical shadows are random, this produces a random variable that yields the correct prediction in expectation:\n",
    "\\begin{align}\n",
    "    \\hat{o}_i = \\mathrm{Tr}(O_i\\hat{\\rho})\\qquad\\mathrm{obeys}\\qquad \\mathrm{Tr}(O_i\\rho)\\equiv \\mathbb{E}[\\hat{o}_i],\\qquad~~~~ 1\\leq i\\leq M.\n",
    "\\end{align}\n",
    " \n",
    "One can prove that a snapshot can correctly predict **any** linear functions $f(\\rho)$ of state, e.g. expectation values of obsevables $O_i$, i.e. $o_i=\\mathrm{Tr}(O_i\\rho)$, by taking average over the repeatedly $N$ independent classical shadows, \n",
    "\n",
    "\\begin{align}\n",
    "\\hat{o}_i(N)=\\mathbb{E}_{j\\in N}(\\hat{o}_i^{(j)}\\hat{\\rho}_j)\n",
    "\\end{align}\n",
    "\n",
    "Actually in practical, with the statistical method of taking an average called \"median of means\" to achieve an acceptable failure probability of estimation, which need $R=NK$ snapshots acctually,\n",
    "\\begin{align}\n",
    "\\hat{o}_i(N,K):=\\mathrm{median}\\{\\hat{o}_i^{(1)},\\cdots,\\hat{o}_i^{(K)}\\}~~\\mathrm{where}~~\\hat{o}_i^{(j)}=N^{-1}\\sum_{k=N(j-1)+1}^{Nj}\\mathrm{Tr}(O_i\\hat{\\rho}_k),\\qquad \\forall~1\\leq j\\leq K\n",
    "\\end{align}\n",
    "\n",
    " Now let's assume that our list of observables are a set of nearest nearist neighbour interactions on a 1D lattice $\\{\\}$, i.e. $O_i=Z_iZ_{i+1}$, where $Z_i$ is the Pauli-Z operator on the $i$th qubit. We can use the classical shadow to estimate the expectation value of the observable $O_i$ by simply replacing the unknown quantum state $\\rho$ with a classical shadow $\\hat{\\rho}$, which is a random variable that yields the correct prediction in expectation:"
   ]
  },
  {
   "cell_type": "code",
   "execution_count": 9,
   "id": "5ec20d7f",
   "metadata": {},
   "outputs": [
    {
     "name": "stdout",
     "output_type": "stream",
     "text": [
      "X(q(0))*X(q(1))\n",
      "X(q(1))*X(q(2))\n",
      "X(q(2))*X(q(3))\n",
      "Y(q(0))*Y(q(1))\n",
      "Y(q(1))*Y(q(2))\n",
      "Y(q(2))*Y(q(3))\n",
      "Z(q(0))*Z(q(1))\n",
      "Z(q(1))*Z(q(2))\n",
      "Z(q(2))*Z(q(3))\n"
     ]
    }
   ],
   "source": [
    "from mitiq import Observable, PauliString\n",
    "\n",
    "r\"\"\"\n",
    " define the observables $\\{X_iX_{i+1}\\}_{i\\leq n-1}$\n",
    "\"\"\"\n",
    "\n",
    "list_of_observables = (\n",
    "    [cirq.X(qubits[i]) * cirq.X(qubits[i + 1]) for i in range(num_qubits - 1)]\n",
    "    + [\n",
    "        cirq.Y(qubits[i]) * cirq.Y(qubits[i + 1])\n",
    "        for i in range(num_qubits - 1)\n",
    "    ]\n",
    "    + [\n",
    "        cirq.Z(qubits[i]) * cirq.Z(qubits[i + 1])\n",
    "        for i in range(num_qubits - 1)\n",
    "    ]\n",
    ")\n",
    "# define the libservables in mitiq\n",
    "mitiq_observables = []\n",
    "identity_string = [\"I\" for i in range(num_qubits)]\n",
    "for pauli in [\"X\", \"Y\", \"Z\"]:\n",
    "    for i in range(num_qubits - 1):\n",
    "        pauli_string = deepcopy(identity_string)\n",
    "        pauli_string[i] = pauli\n",
    "        pauli_string[i + 1] = pauli\n",
    "        pauli_string = \"\".join(pauli_string)\n",
    "        mitiq_observables.append(Observable(PauliString(pauli_string)))\n",
    "for observables in list_of_observables:\n",
    "    print(observables)\n",
    "# print the type of the observables"
   ]
  },
  {
   "cell_type": "code",
   "execution_count": 10,
   "id": "13a1b311",
   "metadata": {},
   "outputs": [],
   "source": [
    "r\"\"\"\n",
    "Solve for the exact expectation values with mitiq\n",
    "-----------------------------------------------\n",
    "$$\\langle O\\rangle_{\\rho} = \\mathrm{Tr}(\\rho O)$$\n",
    "\"\"\"\n",
    "from functools import partial\n",
    "from mitiq.interface import mitiq_cirq\n",
    "\n",
    "expval_exact = []\n",
    "for i, obs in enumerate(mitiq_observables):\n",
    "    exp = obs.expectation(\n",
    "        simple_test_circuit(params, qubits),\n",
    "        execute=partial(mitiq_cirq.compute_density_matrix, noise_level=(0.0,)),\n",
    "    )\n",
    "\n",
    "    expval_exact.append(exp)"
   ]
  },
  {
   "cell_type": "markdown",
   "id": "de9b9c2f",
   "metadata": {},
   "source": [
    "In the scenario of a random Pauli measurement, where a set of local observables acts on neighboring strings, denoted by $\\{X_j X_{j+1},Y_jY_{j+1},Z_jZ_{j+1}\\}_{j\\leq n-1}$, the expected value of the local observable $\\sigma_j\\sigma_{j+1}$, where $\\sigma\\in\\{I,X,Y,Z\\}$, can be expressed as follows:\n",
    "\n",
    "\\begin{align}\n",
    "\\mathrm{Tr}(\\sigma_i\\sigma_{i+1}\\hat{\\rho})=3\\prod_{i\\in\\mathrm{obs}}\\langle\\hat{b}_i|U_i\\sigma_iU_i^\\dagger|\\hat{b}_i\\rangle ,\\qquad|\\hat{b}_i\\rangle\\in\\{0,1\\}, ~~0\\leq i\\leq n-1.\n",
    "\\end{align}\n",
    "\\\n",
    "Here,\n",
    "\\begin{align}\n",
    "\\langle{b}_i|U_i\\sigma_iU_i^\\dagger|{b}_i\\rangle\n",
    "=\\langle{b}_i|Z|{b}_i\\rangle\\cdot\\delta(\\sigma_i,U_i^\\dagger Z U_i)&\\qquad \\mathrm{if}~~ \\sigma_i\\in\\{X,Y,Z\\} \\\\    \n",
    "\\end{align}\n",
    "When we realize this code, it's important to consider that we record the equivalent Pauli measurement in the case of local Pauli measurement. The expectation value of the observable $O_i$ can be simply computed by counting the number of exact matches between the observable and the classical shadow, and then multiplying the result by the appropriate sign given the measurement result $b_i=\\pm 1$. If the operator in the observable does not match the random Pauli measurement (recorded as output in the program) that has been performed on the particular qubit, i.e. if $u_i:= U_i^\\dagger Z U_i \\neq \\sigma_i$, the result vanishes.\n",
    "\n",
    "Consequently, computing the mean estimator involves counting the number of exact matches between the observable and the classical shadow, and then multiplying the result by the appropriate sign. In the following, we present the function `expectation_estimation_shadow`, which allows for estimating any observable based on a classical shadow. This is realised by the main function `execute_with_shadows` when *state_reconstruction =* **Fause**.\n",
    "\n",
    "## Shadow Estimation Bound on Estimation of Expectation Values of Observables\n",
    "\n",
    "The shadow estimation bound of operator expectation values is given by the following theorem:\n",
    "_________________________________________________________________________\n",
    "#### Theorem: \n",
    "A sequence of observables $\\{O_i\\}_{i\\leq M}$ acting on $n$ qubits \n",
    "\\begin{align}\n",
    "K=2\\log(2M \\delta^{-1})\\qquad N=34\\epsilon^{-2}\\max_i\\left\\|O_i-\\frac{\\mathrm{Tr}(O_i)\\mathbb{I}}{2^n}\\right\\|_{\\mathrm{shadow}}^2\n",
    "\\end{align}\n",
    "with error rates $\\delta,\\epsilon\\leq 1$. \n",
    "\n",
    "Then, with probability at least $1-\\delta$, a collection of $R= NK$ independent classical shadows $\\{\\hat{\\rho}_k\\}_{k\\leq NK}$ allow for accurately predicting all features via median of means, i.e.\n",
    "\\begin{align}\n",
    "|\\hat{o}_i(N,K)-\\mathrm{Tr}(O_i\\rho)|\\leq \\epsilon\\qquad \\forall~1\\leq i\\leq M\n",
    "\\end{align}\n",
    "_________________________________________________________________________\n",
    "\n",
    "\n",
    "The general form of the shadow norm $\\|\\cdot\\|_{\\mathrm{shadow}}$ is not clear and depends on the ensemble $\\mathcal{U}$ from which we sampled the unitaries, but there are special cases where the shadow norm computable. For example, if we sample from the local Clifford group $\\mathcal{U}=\\mathrm{CL}(2)^n$, the shadow norm is given by: \n",
    "\\begin{align}\n",
    "\\parallel O \\parallel_{\\mathrm{shadow}}\\leq 4^{w}\\parallel O \\parallel^2,\\qquad O\\mathrm{~acting~on~}w\\mathrm{~qubits}\n",
    "\\end{align}\n",
    " The shadow norm, in this situation, correlates with the operator ($L_2$) norm. This guarantees the accurate prediction of many local observables from only a much smaller number of measurements. We realize the bound of the shadow estimation in the function `shadow_estimation_bound`, which is called in the main function `execute_with_shadows` when *state_reconstruction =* **False**. "
   ]
  },
  {
   "cell_type": "code",
   "execution_count": 11,
   "id": "b0ed68eb",
   "metadata": {},
   "outputs": [
    {
     "data": {
      "application/vnd.jupyter.widget-view+json": {
       "model_id": "c428313d22444fc191f2183ae2b8d227",
       "version_major": 2,
       "version_minor": 0
      },
      "text/plain": [
       "Measurement:   0%|          | 0/517 [00:00<?, ?it/s]"
      ]
     },
     "metadata": {},
     "output_type": "display_data"
    },
    {
     "name": "stdout",
     "output_type": "stream",
     "text": [
      "517 totel number of snapshots required for error rate 1.0\n"
     ]
    },
    {
     "data": {
      "application/vnd.jupyter.widget-view+json": {
       "model_id": "2a7467ec830c4cb283aac7dd16db91bb",
       "version_major": 2,
       "version_minor": 0
      },
      "text/plain": [
       "Measurement:   0%|          | 0/808 [00:00<?, ?it/s]"
      ]
     },
     "metadata": {},
     "output_type": "display_data"
    },
    {
     "name": "stdout",
     "output_type": "stream",
     "text": [
      "808 totel number of snapshots required for error rate 0.8\n"
     ]
    },
    {
     "data": {
      "application/vnd.jupyter.widget-view+json": {
       "model_id": "8c691b4b759844f7a4fcf3d122a0d188",
       "version_major": 2,
       "version_minor": 0
      },
      "text/plain": [
       "Measurement:   0%|          | 0/1436 [00:00<?, ?it/s]"
      ]
     },
     "metadata": {},
     "output_type": "display_data"
    },
    {
     "name": "stdout",
     "output_type": "stream",
     "text": [
      "1436 totel number of snapshots required for error rate 0.6\n"
     ]
    },
    {
     "data": {
      "application/vnd.jupyter.widget-view+json": {
       "model_id": "4f7a9732804d4a9697b8fc328eeb3602",
       "version_major": 2,
       "version_minor": 0
      },
      "text/plain": [
       "Measurement:   0%|          | 0/3231 [00:00<?, ?it/s]"
      ]
     },
     "metadata": {},
     "output_type": "display_data"
    },
    {
     "name": "stdout",
     "output_type": "stream",
     "text": [
      "3231 totel number of snapshots required for error rate 0.4\n"
     ]
    },
    {
     "data": {
      "application/vnd.jupyter.widget-view+json": {
       "model_id": "5b77d214f0854a61853f0f8d211bbf41",
       "version_major": 2,
       "version_minor": 0
      },
      "text/plain": [
       "Measurement:   0%|          | 0/12922 [00:00<?, ?it/s]"
      ]
     },
     "metadata": {},
     "output_type": "display_data"
    },
    {
     "name": "stdout",
     "output_type": "stream",
     "text": [
      "12922 totel number of snapshots required for error rate 0.2\n"
     ]
    }
   ],
   "source": [
    "r\"\"\"\n",
    "Minimum number of snapshots N required for predicting the expectation values of the observables with error rate epsilon.\n",
    "\"\"\"\n",
    "# create a grid of errors epsilon = 0.2, 0.4, 0.6, 0.8 defined as epsilon in the Theorem\n",
    "epsilon_grid = [1 - 0.2 * x for x in range(0, 5, 1)]\n",
    "n_total_measurements = []\n",
    "expectation_value_shadow = []\n",
    "# define failure_rate delta in Theorem\n",
    "failure_rate = 0.009\n",
    "# For each error in epsilon_grid\n",
    "for error in epsilon_grid:\n",
    "    # estimate all the observables in {O_i}_i with error rate epsilon and failure rate delta\n",
    "    output = execute_with_shadows(\n",
    "        circuit,\n",
    "        observables=list_of_observables,\n",
    "        state_reconstruction=False,\n",
    "        error_rate=error,\n",
    "        failure_rate=failure_rate,\n",
    "    )\n",
    "    expectation_value_shadow.append(output[\"est_observables\"])\n",
    "\n",
    "    # get the number of samples needed so that the absolute error < epsilon.\n",
    "    r, k = calculate_shadow_bound(error, list_of_observables, failure_rate)\n",
    "    n_total_measurements.append(r)\n",
    "\n",
    "    # totle number of snpshots required for error rate = epsilon\n",
    "    print(\n",
    "        f\"{r} totel number of snapshots required for error rate {int((error+1e-10)*10)/10}\"\n",
    "    )"
   ]
  },
  {
   "cell_type": "code",
   "execution_count": 12,
   "id": "a71f6e1e",
   "metadata": {},
   "outputs": [
    {
     "data": {
      "image/png": "[encoded data removed]",
      "text/plain": [
       "<Figure size 640x480 with 1 Axes>"
      ]
     },
     "metadata": {},
     "output_type": "display_data"
    }
   ],
   "source": [
    "import matplotlib.pyplot as plt\n",
    "\n",
    "# plot bound\n",
    "plt.plot(\n",
    "    n_total_measurements,\n",
    "    [e for e in epsilon_grid],\n",
    "    linestyle=\"-.\",\n",
    "    color=\"gray\",\n",
    "    label=rf\"$\\epsilon$\",\n",
    "    marker=\".\",\n",
    ")\n",
    "\n",
    "# Plot exact expectation values\n",
    "for i, obs in enumerate(expval_exact):\n",
    "    if i < len(expval_exact) // 3:\n",
    "        color = \"red\"\n",
    "    elif len(expval_exact) // 3 <= i < 2 * len(expval_exact) // 3:\n",
    "        color = \"blue\"\n",
    "    else:\n",
    "        color = \"green\"\n",
    "    obs = expval_exact[i]\n",
    "    for j, error in enumerate(epsilon_grid):\n",
    "        plt.scatter(\n",
    "            [n_total_measurements[j]],\n",
    "            [np.abs(obs - expectation_value_shadow[j][i])],\n",
    "            marker=\".\",\n",
    "            color=color,\n",
    "        )\n",
    "\n",
    "plt.xlabel(r\"$N$ (Shadow size) \")\n",
    "plt.ylabel(r\"$|\\langle O \\rangle_{\\rho} - \\hat{o}|$\")\n",
    "\n",
    "# legend dots\n",
    "plt.scatter(\n",
    "    [], [], marker=\".\", color=\"red\", label=r\"$\\langle X_i X_{i+1} \\rangle$\"\n",
    ")\n",
    "plt.scatter(\n",
    "    [], [], marker=\".\", color=\"blue\", label=r\"$\\langle Y_i Y_{i+1} \\rangle$\"\n",
    ")\n",
    "plt.scatter(\n",
    "    [], [], marker=\".\", color=\"green\", label=r\"$\\langle Z_i Z_{i+1} \\rangle$\"\n",
    ")\n",
    "plt.legend()\n",
    "# x log scale\n",
    "plt.xscale(\"log\")\n",
    "plt.show()"
   ]
  },
  {
   "cell_type": "code",
   "execution_count": null,
   "id": "08cc8914",
   "metadata": {},
   "outputs": [],
   "source": []
  }
 ],
 "metadata": {
  "kernelspec": {
   "display_name": "Python 3",
   "language": "python",
   "name": "python3"
  },
  "language_info": {
   "codemirror_mode": {
    "name": "ipython",
    "version": 3
   },
   "file_extension": ".py",
   "mimetype": "text/x-python",
   "name": "python",
   "nbconvert_exporter": "python",
   "pygments_lexer": "ipython3",
   "version": "3.10.9"
  }
 },
 "nbformat": 4,
 "nbformat_minor": 5
}
